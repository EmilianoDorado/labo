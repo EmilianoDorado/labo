{
 "cells": [
  {
   "cell_type": "code",
   "execution_count": null,
   "id": "2092837f",
   "metadata": {
    "vscode": {
     "languageId": "r"
    }
   },
   "outputs": [],
   "source": [
    "#Optimizacion Bayesiana de hiperparametros de  rpart\n",
    "#funciona automaticamente con EXPERIMENTOS\n",
    "#va generando incrementalmente salidas para kaggle\n",
    "\n",
    "#limpio la memoria\n",
    "rm( list=ls() )  #remove all objects\n",
    "gc()             #garbage collection\n",
    "install.packages(\"rlist\")\n",
    "install.packages(\"DiceKriging\")\n",
    "install.packages(\"parallel\")\n",
    "install.packages(\"yaml\")\n",
    "install.packages(\"mlrMBO\")\n",
    "library(\"data.table\")\n",
    "library(\"rlist\")\n",
    "library(\"yaml\")\n",
    "\n",
    "library(\"rpart\")\n",
    "library(\"parallel\")\n",
    "\n",
    "#paquetes necesarios para la Bayesian Optimization\n",
    "library(\"DiceKriging\")\n",
    "library(\"mlrMBO\")"
   ]
  },
  {
   "cell_type": "code",
   "execution_count": 5,
   "id": "cdbf9f90",
   "metadata": {
    "vscode": {
     "languageId": "r"
    }
   },
   "outputs": [],
   "source": [
    "#para poder usarlo en la PC y en la nube\n",
    "switch ( Sys.info()[['sysname']],\n",
    "         Windows = { directory.root   <-  \"M:\\\\\" },   #Microsoft Windows\n",
    "         Darwin  = { directory.root   <-  \"~/dm/\" },  #Apple MAC\n",
    "#         Linux   = { directory.root   <-  \"~/buckets/b1/\" }  #Entorno Google Cloud\n",
    "         Linux   = { directory.root   <-  \"~/\" }  #Hay un problema en el almacenamiento en cloud del BO por el momento se graba en el usuario\n",
    "       )\n",
    "#defino la carpeta donde trabajo\n",
    "\n",
    "#Hay un error en el almacenamiento \n",
    "\n",
    "setwd(\"C:/Users/Usuario/OneDrive/Escritorio/MCD Austral/Laboratorio1\")"
   ]
  },
  {
   "cell_type": "code",
   "execution_count": 17,
   "id": "0b489a50",
   "metadata": {
    "vscode": {
     "languageId": "r"
    }
   },
   "outputs": [],
   "source": [
    "kexperimento  <- NA   #NA si se corre la primera vez, un valor concreto si es para continuar procesando\n",
    "\n",
    "kscript           <- \"04.02 - BO Rpart FE\"\n",
    "kBO_iter    <-  200   #cantidad de iteraciones de la Optimizacion Bayesiana\n",
    "\n",
    "kcarpeta_datasets    <- \"./datasets/\"                          #VM o Ubuntu\n",
    " \n",
    "#Archivo con datos etiquetados para entrenamiento\n",
    "karchivo_entrada      <-  paste0(kcarpeta_datasets, \"competencia1_2022_FE.csv\")\n",
    "\n",
    "\n",
    "#Ganancia por TP\n",
    "kTPGain               <-  78000\n",
    "\n",
    "#Pérdida por FP\n",
    "kFPGain               <-  -2000\n",
    "\n",
    "\n",
    "hs  <- makeParamSet(\n",
    "          makeNumericParam(\"cp\"       , lower= -1   , upper=    0.1),\n",
    "          makeIntegerParam(\"minsplit\" , lower=  1L  , upper= 8000L),  #la letra L al final significa ENTERO\n",
    "          makeIntegerParam(\"minbucket\", lower=  1L  , upper= 2000L),\n",
    "          makeIntegerParam(\"maxdepth\" , lower=  3L  , upper=   20L),\n",
    "          forbidden = quote( minbucket > 0.5*minsplit ) )\n",
    "\n",
    "\n",
    "ksemilla_azar  <- 102191"
   ]
  },
  {
   "cell_type": "markdown",
   "id": "426b9b91-0ff7-45dd-8245-a32801ff5b76",
   "metadata": {
    "vscode": {
     "languageId": "r"
    }
   },
   "source": [
    "#------------------------------------------------------------------------------\n",
    "#Funcion que lleva el registro de los experimentos\n",
    "\n",
    "get_experimento  <- function()\n",
    "{\n",
    "  if( !file.exists( \"./maestro.yaml\" ) )  cat( file=\"./maestro.yaml\", \"experimento: 1000\" )\n",
    "\n",
    "  exp  <- read_yaml( \"./maestro.yaml\" )\n",
    "  experimento_actual  <- exp$experimento\n",
    "\n",
    "  exp$experimento  <- as.integer(exp$experimento + 1)\n",
    "  Sys.chmod( \"./maestro.yaml\", mode = \"0644\", use_umask = TRUE)\n",
    "  write_yaml( exp, \"./maestro.yaml\" )\n",
    "  Sys.chmod( \"./maestro.yaml\", mode = \"0444\", use_umask = TRUE) #dejo el archivo readonly\n",
    "\n",
    "  return( experimento_actual )\n",
    "}"
   ]
  },
  {
   "cell_type": "code",
   "execution_count": 7,
   "id": "d2e38325-19a3-4e59-8b0a-26471a2c4fd5",
   "metadata": {
    "vscode": {
     "languageId": "r"
    }
   },
   "outputs": [],
   "source": [
    "#------------------------------------------------------------------------------\n",
    "#Funcion que lleva el registro de los experimentos\n",
    "\n",
    "get_experimento  <- function()\n",
    "{\n",
    "  if( !file.exists( \"./maestro.yaml\" ) )  cat( file=\"./maestro.yaml\", \"experimento: 1000\" )\n",
    "\n",
    "  exp  <- read_yaml( \"./maestro.yaml\" )\n",
    "  experimento_actual  <- exp$experimento\n",
    "\n",
    "  exp$experimento  <- as.integer(exp$experimento + 1)\n",
    "  Sys.chmod( \"./maestro.yaml\", mode = \"0644\", use_umask = TRUE)\n",
    "  write_yaml( exp, \"./maestro.yaml\" )\n",
    "  Sys.chmod( \"./maestro.yaml\", mode = \"0444\", use_umask = TRUE) #dejo el archivo readonly\n",
    "\n",
    "  return( experimento_actual )\n",
    "}"
   ]
  },
  {
   "cell_type": "code",
   "execution_count": 8,
   "id": "1e9841a2",
   "metadata": {
    "vscode": {
     "languageId": "r"
    }
   },
   "outputs": [],
   "source": [
    "#------------------------------------------------------------------------------\n",
    "#funcion para particionar, es la que Andres reemplaza con caret\n",
    "\n",
    "particionar  <- function( data, division, agrupa=\"\", campo=\"fold\", start=1, seed=NA )\n",
    "{\n",
    "  if( !is.na( seed)  )   set.seed( seed )\n",
    "\n",
    "  bloque  <- unlist( mapply(  function(x,y) { rep( y, x ) }, division, seq( from=start, length.out=length(division) )  ) )\n",
    "\n",
    "  data[ , (campo) :=  sample( rep( bloque, ceiling(.N/length(bloque))) )[1:.N],\n",
    "           by= agrupa ]\n",
    "}\n",
    "#------------------------------------------------------------------------------"
   ]
  },
  {
   "cell_type": "code",
   "execution_count": 9,
   "id": "c1e1901e",
   "metadata": {
    "vscode": {
     "languageId": "r"
    }
   },
   "outputs": [],
   "source": [
    "ArbolSimple  <- function( fold_test, data, param )\n",
    "{\n",
    "  #genero el modelo\n",
    "  modelo  <- rpart(\"clase_ternaria ~ .\", \n",
    "                   data= data[ fold != fold_test, ],\n",
    "                   xval= 0,\n",
    "                   control= param )\n",
    "\n",
    "  #aplico el modelo a los datos de testing, fold==2\n",
    "  prediccion  <- predict( modelo, data[ fold==fold_test, ], type = \"prob\")\n",
    "\n",
    "  prob_baja2  <- prediccion[, \"BAJA+2\"]\n",
    "\n",
    "  ganancia_testing  <- sum(  data[ fold==fold_test ][ prob_baja2 >0.025,  ifelse( clase_ternaria==\"BAJA+2\", kTPGain, kFPGain ) ] )\n",
    "\n",
    "  return( ganancia_testing )\n",
    "}"
   ]
  },
  {
   "cell_type": "code",
   "execution_count": 42,
   "id": "3f25f951",
   "metadata": {
    "vscode": {
     "languageId": "r"
    }
   },
   "outputs": [],
   "source": [
    "#------------------------------------------------------------------------------\n",
    "\n",
    "ArbolesCrossValidation  <- function( data, param, qfolds, pagrupa, semilla )\n",
    "{\n",
    "  divi  <- rep( 1, qfolds )\n",
    "  particionar( data, divi, seed=semilla, agrupa=pagrupa )\n",
    "\n",
    "  ganancias  <- mcmapply( ArbolSimple, \n",
    "                          seq(qfolds), # 1 2 3 4 5  \n",
    "                          MoreArgs= list( data, param), \n",
    "                          SIMPLIFY= FALSE,\n",
    "                          mc.cores= 1 )   #se puede subir a 5 si posee Linux o Mac OS\n",
    "\n",
    "  data[ , fold := NULL ]\n",
    "  #devuelvo la primer ganancia y el promedio\n",
    "  return( mean( unlist( ganancias )) *  qfolds )   #aqui normalizo la ganancia\n",
    "}"
   ]
  },
  {
   "cell_type": "code",
   "execution_count": 35,
   "id": "6ba36867",
   "metadata": {
    "vscode": {
     "languageId": "r"
    }
   },
   "outputs": [],
   "source": [
    "#------------------------------------------------------------------------------\n",
    "#esta funcion solo puede recibir los parametros que se estan optimizando\n",
    "#el resto de los parametros se pasan como variables globales\n",
    "\n",
    "EstimarGanancia  <- function( x )\n",
    "{\n",
    "   GLOBAL_iteracion  <<-  GLOBAL_iteracion + 1\n",
    "\n",
    "   xval_folds  <- 5\n",
    "   ganancia  <-  ArbolesCrossValidation( dtrain, param=x, qfolds= xval_folds, pagrupa=\"clase_ternaria\", semilla=ksemilla_azar )\n",
    "\n",
    "   #si tengo una ganancia superadora, genero el archivo para Kaggle\n",
    "   if(  ganancia > GLOBAL_ganancia_max )\n",
    "   {\n",
    "     GLOBAL_ganancia_max <<-  ganancia  #asigno la nueva maxima ganancia\n",
    "    \n",
    "     modelo  <- rpart(\"clase_ternaria ~ .\",\n",
    "                      data= dtrain,\n",
    "                      xval= 0,\n",
    "                      control= x )\n",
    "\n",
    "     #genero el vector con la prediccion, la probabilidad de ser positivo\n",
    "     prediccion  <- predict( modelo, dapply)\n",
    "\n",
    "     prob_baja2  <- prediccion[, \"BAJA+2\"]\n",
    "     Predicted   <- ifelse( prob_baja2 > 0.025, 1, 0 )\n",
    "\n",
    "     entrega  <-  as.data.table( list( \"numero_de_cliente\"=dapply$numero_de_cliente, \"Predicted\"=Predicted)  )\n",
    "\n",
    "     #genero el archivo para Kaggle\n",
    "     fwrite( entrega, \n",
    "             file= paste0(kkaggle, GLOBAL_iteracion, \".csv\" ),\n",
    "             sep=  \",\" )\n",
    "   }\n",
    "\n",
    "   return( ganancia )\n",
    "}\n",
    "#------------------------------------------------------------------------------"
   ]
  },
  {
   "cell_type": "code",
   "execution_count": 36,
   "id": "3bdbd4cb",
   "metadata": {
    "vscode": {
     "languageId": "r"
    }
   },
   "outputs": [],
   "source": [
    "#Aqui empieza el programa\n",
    "\n",
    "if( is.na(kexperimento ) )   kexperimento <- get_experimento()  #creo el experimento"
   ]
  },
  {
   "cell_type": "code",
   "execution_count": 37,
   "id": "57f2a412",
   "metadata": {
    "vscode": {
     "languageId": "r"
    }
   },
   "outputs": [],
   "source": [
    "#en estos archivos quedan los resultados\n",
    "kbayesiana  <- paste0( \"./exp/KA3720/KANUEVO\",  kexperimento, \"_rpart.RDATA\" )\n",
    "kkaggle     <- paste0( \"./exp/KA3720/KANUEVO1\",kexperimento, \"_rpart_kaggle_\" )"
   ]
  },
  {
   "cell_type": "code",
   "execution_count": 38,
   "id": "a555476f",
   "metadata": {
    "vscode": {
     "languageId": "r"
    }
   },
   "outputs": [],
   "source": [
    "GLOBAL_ganancia_max  <-  -Inf\n",
    "GLOBAL_iteracion  <- 0"
   ]
  },
  {
   "cell_type": "code",
   "execution_count": 39,
   "id": "81cc80f4",
   "metadata": {
    "vscode": {
     "languageId": "r"
    }
   },
   "outputs": [],
   "source": [
    "#cargo los datos\n",
    "dataset <- fread(karchivo_entrada)\n",
    "\n",
    "#Para hacer pruebas rapidas puedo reducir el dataset a una fraccion\n",
    "#subsample <- sample(1:nrow(dataset), .1 * nrow(dataset))\n",
    "#dataset <- dataset[subsample,]\n",
    "\n",
    "dtrain  <- dataset[ foto_mes==202101 ]  #defino donde voy a entrenar\n",
    "\n",
    "dapply  <- dataset[ foto_mes==202103 ]  #defino donde voy a aplicar el modelo"
   ]
  },
  {
   "cell_type": "code",
   "execution_count": 40,
   "id": "c81db6a6",
   "metadata": {
    "vscode": {
     "languageId": "r"
    }
   },
   "outputs": [],
   "source": [
    "#Aqui comienza la configuracion de la Bayesian Optimization\n",
    "\n",
    "configureMlr( show.learner.output = FALSE)\n",
    "\n",
    "funcion_optimizar  <- EstimarGanancia\n",
    "\n",
    "#configuro la busqueda bayesiana,  los hiperparametros que se van a optimizar\n",
    "#por favor, no desesperarse por lo complejo\n",
    "obj.fun  <- makeSingleObjectiveFunction(\n",
    "              fn=       funcion_optimizar,\n",
    "              minimize= FALSE,   #estoy Maximizando la ganancia\n",
    "              noisy=    TRUE,\n",
    "              par.set=  hs,\n",
    "              has.simple.signature = FALSE\n",
    "             )\n",
    "\n",
    "ctrl  <- makeMBOControl( save.on.disk.at.time= 60,  save.file.path= kbayesiana)\n",
    "ctrl  <- setMBOControlTermination(ctrl, iters= kBO_iter )\n",
    "ctrl  <- setMBOControlInfill(ctrl, crit= makeMBOInfillCritEI())\n",
    "\n",
    "surr.km  <-  makeLearner(\"regr.km\", predict.type= \"se\", covtype= \"matern3_2\", control= list(trace= TRUE))"
   ]
  },
  {
   "cell_type": "code",
   "execution_count": null,
   "id": "9383ca74",
   "metadata": {
    "vscode": {
     "languageId": "r"
    }
   },
   "outputs": [
    {
     "name": "stderr",
     "output_type": "stream",
     "text": [
      "Computing y column(s) for design. Not provided.\n",
      "\n",
      "[mbo] 0: cp=-0.747; minsplit=6857; minbucket=604; maxdepth=14 : y = 1.52e+07 : 99.9 secs : initdesign\n",
      "\n",
      "[mbo] 0: cp=-0.811; minsplit=5858; minbucket=705; maxdepth=6 : y = 1.58e+07 : 64.3 secs : initdesign\n",
      "\n",
      "[mbo] 0: cp=-0.175; minsplit=4295; minbucket=1671; maxdepth=12 : y = 1.67e+07 : 94.9 secs : initdesign\n",
      "\n",
      "[mbo] 0: cp=-0.472; minsplit=5073; minbucket=1353; maxdepth=3 : y = 1.59e+07 : 33.3 secs : initdesign\n",
      "\n",
      "[mbo] 0: cp=0.0829; minsplit=1585; minbucket=422; maxdepth=16 : y = 0 : 3002.3 secs : initdesign\n",
      "\n",
      "[mbo] 0: cp=-0.425; minsplit=4796; minbucket=757; maxdepth=19 : y = 1.58e+07 : 75487.3 secs : initdesign\n",
      "\n",
      "[mbo] 0: cp=-0.675; minsplit=3550; minbucket=303; maxdepth=6 : y = 1.74e+07 : 33.9 secs : initdesign\n",
      "\n",
      "[mbo] 0: cp=-0.91; minsplit=7397; minbucket=1014; maxdepth=15 : y = 1.53e+07 : 33.5 secs : initdesign\n",
      "\n",
      "[mbo] 0: cp=-0.568; minsplit=480; minbucket=181; maxdepth=11 : y = 1.98e+07 : 105.7 secs : initdesign\n",
      "\n",
      "[mbo] 0: cp=-0.107; minsplit=7545; minbucket=999; maxdepth=8 : y = 1.53e+07 : 58.2 secs : initdesign\n",
      "\n",
      "[mbo] 0: cp=0.0137; minsplit=6285; minbucket=120; maxdepth=17 : y = 0 : 54.3 secs : initdesign\n",
      "\n",
      "[mbo] 0: cp=-0.589; minsplit=3456; minbucket=1457; maxdepth=10 : y = 1.7e+07 : 74.3 secs : initdesign\n",
      "\n",
      "[mbo] 0: cp=-0.803; minsplit=6877; minbucket=204; maxdepth=18 : y = 1.51e+07 : 645.9 secs : initdesign\n",
      "\n",
      "[mbo] 0: cp=-0.614; minsplit=3346; minbucket=779; maxdepth=10 : y = 1.78e+07 : 72.4 secs : initdesign\n",
      "\n",
      "[mbo] 0: cp=0.00734; minsplit=4986; minbucket=1250; maxdepth=14 : y = 0 : 56.9 secs : initdesign\n",
      "\n",
      "[mbo] 0: cp=-0.132; minsplit=4923; minbucket=756; maxdepth=9 : y = 1.58e+07 : 67.3 secs : initdesign\n",
      "\n",
      "Saved the current state after iteration 1 in the file ./exp/KA3720/KANUEVO1001_rpart.RDATA.\n",
      "\n",
      "[mbo] 1: cp=-0.226; minsplit=7996; minbucket=834; maxdepth=3 : y = 1.53e+07 : 31.0 secs : infill_ei\n",
      "\n",
      "[mbo] 2: cp=-0.557; minsplit=4756; minbucket=1; maxdepth=4 : y = 1.61e+07 : 258.1 secs : infill_ei\n",
      "\n",
      "Saved the current state after iteration 3 in the file ./exp/KA3720/KANUEVO1001_rpart.RDATA.\n",
      "\n",
      "[mbo] 3: cp=-0.603; minsplit=9; minbucket=4; maxdepth=20 : y = 6.92e+06 : 142.4 secs : infill_ei\n",
      "\n",
      "Saved the current state after iteration 4 in the file ./exp/KA3720/KANUEVO1001_rpart.RDATA.\n",
      "\n",
      "[mbo] 4: cp=-0.431; minsplit=1549; minbucket=445; maxdepth=11 : y = 1.85e+07 : 80.3 secs : infill_ei\n",
      "\n",
      "Saved the current state after iteration 5 in the file ./exp/KA3720/KANUEVO1001_rpart.RDATA.\n",
      "\n",
      "[mbo] 5: cp=-0.528; minsplit=40; minbucket=20; maxdepth=9 : y = 1.79e+07 : 981.1 secs : infill_ei\n",
      "\n",
      "Saved the current state after iteration 6 in the file ./exp/KA3720/KANUEVO1001_rpart.RDATA.\n",
      "\n",
      "[mbo] 6: cp=-0.318; minsplit=6590; minbucket=1591; maxdepth=11 : y = 1.53e+07 : 70.1 secs : infill_ei\n",
      "\n",
      "Saved the current state after iteration 7 in the file ./exp/KA3720/KANUEVO1001_rpart.RDATA.\n",
      "\n",
      "[mbo] 7: cp=-0.517; minsplit=4639; minbucket=224; maxdepth=12 : y = 1.6e+07 : 80.4 secs : infill_ei\n",
      "\n",
      "Saved the current state after iteration 8 in the file ./exp/KA3720/KANUEVO1001_rpart.RDATA.\n",
      "\n",
      "[mbo] 8: cp=-0.695; minsplit=7; minbucket=2; maxdepth=10 : y = 1.84e+07 : 639.1 secs : infill_ei\n",
      "\n",
      "Saved the current state after iteration 9 in the file ./exp/KA3720/KANUEVO1001_rpart.RDATA.\n",
      "\n",
      "[mbo] 9: cp=-0.19; minsplit=3945; minbucket=1972; maxdepth=7 : y = 1.75e+07 : 58.4 secs : infill_ei\n",
      "\n",
      "Saved the current state after iteration 10 in the file ./exp/KA3720/KANUEVO1001_rpart.RDATA.\n",
      "\n",
      "[mbo] 10: cp=-0.593; minsplit=235; minbucket=2; maxdepth=10 : y = 2.02e+07 : 97.5 secs : infill_ei\n",
      "\n",
      "Saved the current state after iteration 11 in the file ./exp/KA3720/KANUEVO1001_rpart.RDATA.\n",
      "\n",
      "[mbo] 11: cp=-0.604; minsplit=321; minbucket=159; maxdepth=7 : y = 2.11e+07 : 140.6 secs : infill_ei\n",
      "\n",
      "Saved the current state after iteration 12 in the file ./exp/KA3720/KANUEVO1001_rpart.RDATA.\n",
      "\n",
      "[mbo] 12: cp=-0.618; minsplit=358; minbucket=177; maxdepth=3 : y = 1.6e+07 : 29.0 secs : infill_ei\n",
      "\n",
      "[mbo] 13: cp=-0.583; minsplit=801; minbucket=385; maxdepth=7 : y = 1.93e+07 : 37.0 secs : infill_ei\n",
      "\n",
      "Saved the current state after iteration 14 in the file ./exp/KA3720/KANUEVO1001_rpart.RDATA.\n",
      "\n",
      "[mbo] 14: cp=-0.614; minsplit=324; minbucket=143; maxdepth=8 : y = 2.04e+07 : 31.0 secs : infill_ei\n",
      "\n",
      "[mbo] 15: cp=-0.253; minsplit=2085; minbucket=1040; maxdepth=8 : y = 1.9e+07 : 31.4 secs : infill_ei\n",
      "\n",
      "Saved the current state after iteration 16 in the file ./exp/KA3720/KANUEVO1001_rpart.RDATA.\n",
      "\n",
      "[mbo] 16: cp=-0.341; minsplit=409; minbucket=202; maxdepth=6 : y = 2.04e+07 : 26.5 secs : infill_ei\n",
      "\n",
      "[mbo] 17: cp=-0.367; minsplit=1527; minbucket=762; maxdepth=6 : y = 1.89e+07 : 27.2 secs : infill_ei\n",
      "\n",
      "[mbo] 18: cp=-0.237; minsplit=9; minbucket=2; maxdepth=6 : y = 2e+07 : 25.0 secs : infill_ei\n",
      "\n",
      "Saved the current state after iteration 19 in the file ./exp/KA3720/KANUEVO1001_rpart.RDATA.\n",
      "\n",
      "[mbo] 19: cp=-0.265; minsplit=746; minbucket=373; maxdepth=7 : y = 1.89e+07 : 34.8 secs : infill_ei\n",
      "\n",
      "[mbo] 20: cp=-0.606; minsplit=4; minbucket=1; maxdepth=7 : y = 1.93e+07 : 29.3 secs : infill_ei\n",
      "\n",
      "Saved the current state after iteration 21 in the file ./exp/KA3720/KANUEVO1001_rpart.RDATA.\n",
      "\n",
      "[mbo] 21: cp=-0.606; minsplit=388; minbucket=189; maxdepth=10 : y = 1.97e+07 : 38.7 secs : infill_ei\n",
      "\n",
      "[mbo] 22: cp=-0.16; minsplit=676; minbucket=163; maxdepth=5 : y = 1.98e+07 : 22.8 secs : infill_ei\n",
      "\n",
      "Saved the current state after iteration 23 in the file ./exp/KA3720/KANUEVO1001_rpart.RDATA.\n",
      "\n",
      "[mbo] 23: cp=-0.243; minsplit=4510; minbucket=127; maxdepth=6 : y = 1.64e+07 : 23.8 secs : infill_ei\n",
      "\n",
      "[mbo] 24: cp=-0.166; minsplit=2616; minbucket=1307; maxdepth=5 : y = 1.84e+07 : 24.7 secs : infill_ei\n",
      "\n",
      "[mbo] 25: cp=-0.339; minsplit=36; minbucket=1; maxdepth=11 : y = 1.85e+07 : 41.3 secs : infill_ei\n",
      "\n",
      "Saved the current state after iteration 26 in the file ./exp/KA3720/KANUEVO1001_rpart.RDATA.\n",
      "\n",
      "[mbo] 26: cp=-0.779; minsplit=7993; minbucket=1029; maxdepth=19 : y = 1.53e+07 : 35.6 secs : infill_ei\n",
      "\n",
      "[mbo] 27: cp=0.0599; minsplit=2; minbucket=1; maxdepth=6 : y = 0 : 20.0 secs : infill_ei\n",
      "\n",
      "[mbo] 28: cp=-0.378; minsplit=2041; minbucket=1; maxdepth=7 : y = 1.94e+07 : 26.7 secs : infill_ei\n",
      "\n",
      "Saved the current state after iteration 29 in the file ./exp/KA3720/KANUEVO1001_rpart.RDATA.\n",
      "\n",
      "[mbo] 29: cp=-0.987; minsplit=672; minbucket=1; maxdepth=7 : y = 2.01e+07 : 26.9 secs : infill_ei\n",
      "\n",
      "[mbo] 30: cp=-0.79; minsplit=1252; minbucket=1; maxdepth=7 : y = 1.95e+07 : 26.9 secs : infill_ei\n",
      "\n",
      "[mbo] 31: cp=-0.218; minsplit=1274; minbucket=1; maxdepth=3 : y = 1.74e+07 : 14.5 secs : infill_ei\n",
      "\n",
      "Saved the current state after iteration 32 in the file ./exp/KA3720/KANUEVO1001_rpart.RDATA.\n",
      "\n",
      "[mbo] 32: cp=-1; minsplit=565; minbucket=2; maxdepth=12 : y = 2.04e+07 : 43.6 secs : infill_ei\n",
      "\n",
      "[mbo] 33: cp=-1; minsplit=7987; minbucket=5; maxdepth=7 : y = 1.54e+07 : 25.6 secs : infill_ei\n",
      "\n",
      "Saved the current state after iteration 34 in the file ./exp/KA3720/KANUEVO1001_rpart.RDATA.\n",
      "\n",
      "[mbo] 34: cp=-1; minsplit=2728; minbucket=1; maxdepth=11 : y = 1.78e+07 : 37.2 secs : infill_ei\n",
      "\n",
      "[mbo] 35: cp=-0.589; minsplit=7999; minbucket=930; maxdepth=6 : y = 1.53e+07 : 23.6 secs : infill_ei\n",
      "\n",
      "Saved the current state after iteration 36 in the file ./exp/KA3720/KANUEVO1001_rpart.RDATA.\n",
      "\n",
      "[mbo] 36: cp=-0.207; minsplit=1524; minbucket=3; maxdepth=12 : y = 1.88e+07 : 52.1 secs : infill_ei\n",
      "\n",
      "[mbo] 37: cp=-1; minsplit=4686; minbucket=2000; maxdepth=20 : y = 1.65e+07 : 33.2 secs : infill_ei\n",
      "\n",
      "Saved the current state after iteration 38 in the file ./exp/KA3720/KANUEVO1001_rpart.RDATA.\n",
      "\n",
      "[mbo] 38: cp=-1; minsplit=4187; minbucket=1999; maxdepth=6 : y = 1.75e+07 : 32.0 secs : infill_ei\n",
      "\n",
      "[mbo] 39: cp=-1; minsplit=7994; minbucket=1998; maxdepth=4 : y = 1.53e+07 : 20.6 secs : infill_ei\n",
      "\n",
      "[mbo] 40: cp=-0.596; minsplit=573; minbucket=29; maxdepth=7 : y = 2.08e+07 : 28.8 secs : infill_ei\n",
      "\n",
      "Saved the current state after iteration 41 in the file ./exp/KA3720/KANUEVO1001_rpart.RDATA.\n",
      "\n"
     ]
    }
   ],
   "source": [
    "#inicio la optimizacion bayesiana\n",
    "if(!file.exists(kbayesiana)) {\n",
    "  run  <- mbo(obj.fun, learner = surr.km, control = ctrl)\n",
    "} else  run  <- mboContinue( kbayesiana )   #retomo en caso que ya exista"
   ]
  },
  {
   "cell_type": "code",
   "execution_count": null,
   "id": "fd592624",
   "metadata": {
    "vscode": {
     "languageId": "r"
    }
   },
   "outputs": [],
   "source": [
    "quit( save=\"no\" )"
   ]
  },
  {
   "cell_type": "code",
   "execution_count": null,
   "id": "5b559bf4",
   "metadata": {
    "vscode": {
     "languageId": "r"
    }
   },
   "outputs": [],
   "source": []
  }
 ],
 "metadata": {
  "kernelspec": {
   "display_name": "R",
   "language": "R",
   "name": "ir"
  },
  "language_info": {
   "codemirror_mode": "r",
   "file_extension": ".r",
   "mimetype": "text/x-r-source",
   "name": "R",
   "pygments_lexer": "r",
   "version": "4.1.3"
  },
  "vscode": {
   "interpreter": {
    "hash": "0b87cd2a2c92c59199cd604023601109306b45cac2bd778b8aa97bbc69631231"
   }
  }
 },
 "nbformat": 4,
 "nbformat_minor": 5
}
